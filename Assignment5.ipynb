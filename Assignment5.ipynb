{
 "cells": [
  {
   "cell_type": "code",
   "execution_count": 1,
   "id": "043832fb",
   "metadata": {},
   "outputs": [
    {
     "name": "stdout",
     "output_type": "stream",
     "text": [
      "Enter First element:1\n",
      "Enter Second element:3\n",
      "Enter Third element:5\n",
      "point object details are:\n",
      "First element is: 1\n",
      "Second element is: 3\n",
      "Third element is: 5\n",
      "square object details are:\n",
      "Square of First element is: 1\n",
      "Square of Second element is: 9\n",
      "Square of Third element is: 25\n",
      "sqSum of all the elements is: 35\n"
     ]
    }
   ],
   "source": [
    "#Challenge 1: Square Numbers and Return Their Sum\n",
    "\n",
    "class Point:\n",
    "    \n",
    "    def __init__(self,x,y,z):\n",
    "        self.x = x\n",
    "        self.y = y\n",
    "        self.z = z\n",
    "\n",
    "    def display(self):\n",
    "        print(\"First element is:\",self.x)\n",
    "        print(\"Second element is:\",self.y)\n",
    "        print(\"Third element is:\",self.z)\n",
    "        \n",
    "    def square(self):\n",
    "        self.x = self.x**2\n",
    "        self.y = self.y**2\n",
    "        self.z = self.z**2\n",
    "        print(\"Square of First element is:\",self.x)\n",
    "        print(\"Square of Second element is:\",self.y)\n",
    "        print(\"Square of Third element is:\",self.z)\n",
    "        \n",
    "    def sqSum(self):\n",
    "        return (self.x+self.y+self.z)\n",
    "x = int(input(\"Enter First element:\")) \n",
    "y = int(input(\"Enter Second element:\")) \n",
    "z = int(input(\"Enter Third element:\")) \n",
    "p = Point(x,y,z)\n",
    "print(\"point object details are:\")\n",
    "p.display()\n",
    "print(\"square object details are:\")\n",
    "p.square()\n",
    "print(\"sqSum of all the elements is:\",p.sqSum())"
   ]
  },
  {
   "cell_type": "code",
   "execution_count": 2,
   "id": "ede5e0f6",
   "metadata": {},
   "outputs": [
    {
     "name": "stdout",
     "output_type": "stream",
     "text": [
      "104\n",
      "84\n",
      "940\n",
      "9.4\n"
     ]
    }
   ],
   "source": [
    "#Challenge 2: Implement a Calculator Class\n",
    "\n",
    "class calculator:\n",
    "    def __init__(self,num1,num2):\n",
    "        self.num1=num1\n",
    "        self.num2=num2\n",
    "    def add(self):\n",
    "        return self.num2+self.num1\n",
    "    def sub(self):\n",
    "        return self.num2-self.num1\n",
    "    def multiply(self):\n",
    "        return self.num2*self.num1\n",
    "    def divide(self):\n",
    "        return self.num2/self.num1\n",
    "\n",
    "obj = calculator(10,94)\n",
    "print(obj.add())\n",
    "print(obj.sub())\n",
    "print(obj.multiply())\n",
    "print(obj.divide())"
   ]
  },
  {
   "cell_type": "code",
   "execution_count": 3,
   "id": "27b6916e",
   "metadata": {},
   "outputs": [
    {
     "name": "stdout",
     "output_type": "stream",
     "text": [
      "setter method called\n",
      "getter method called\n",
      "SHRADHA\n",
      "3GN19CS095\n"
     ]
    }
   ],
   "source": [
    "#Challenge 3: Implement the Complete Student Class\n",
    "\n",
    "class student:\n",
    "    def __init__(self, name, rollNumber):\n",
    "        self.__name=name\n",
    "        self.__rollNumber=rollNumber\n",
    "        \n",
    "    #setter method\n",
    "    def set_name(self,name):\n",
    "        print(\"setter method called\")\n",
    "        self.__name=name\n",
    "        pass\n",
    "    def get_name(self):\n",
    "        print(\"getter method called\")\n",
    "        return self.__name\n",
    "    pass\n",
    "    \n",
    "    \n",
    "    #setter method\n",
    "    def set_rollNumber(self,rollNumber):\n",
    "        self.__rollNumber=rollNumber\n",
    "        pass\n",
    "    def get_rollNumber(self):\n",
    "        return self.__rollNumber\n",
    "    pass\n",
    "    \n",
    "student1 = student(\"SHRADHA\",\"3GN19CS095\")\n",
    "student1.set_name(\"SHRADHA\")\n",
    "print(student1.get_name())\n",
    "student1.set_rollNumber(\"3GN19CS095\")\n",
    "print(student1.get_rollNumber())"
   ]
  },
  {
   "cell_type": "code",
   "execution_count": 4,
   "id": "c10c0325",
   "metadata": {},
   "outputs": [
    {
     "name": "stdout",
     "output_type": "stream",
     "text": [
      "Ashish\n",
      "5000\n",
      "5\n"
     ]
    }
   ],
   "source": [
    "#Challenge 4: Implement a Banking Account\n",
    "\n",
    "class Account:\n",
    "    def __init__(self,title=None,balance=0):\n",
    "        self.title = title\n",
    "        self.balance = balance\n",
    "class SavingsAccount(Account):\n",
    "    def __init__(self, title, balance, interestrate):\n",
    "        super().__init__(title,balance)\n",
    "        self.interestrate = interestrate\n",
    "    def interestamount(self):\n",
    "        print(\"interest rate:\",self.interestrate)\n",
    "        return self.interestrate\n",
    "    \n",
    "\n",
    "a1 = SavingsAccount(\"Ashish\", 5000, 5)\n",
    "print(a1.title)\n",
    "print(a1.balance)\n",
    "print(a1.interestrate) "
   ]
  },
  {
   "cell_type": "code",
   "execution_count": 5,
   "id": "aa1cf18f",
   "metadata": {},
   "outputs": [
    {
     "name": "stdout",
     "output_type": "stream",
     "text": [
      "Balance after deposit is 2500\n",
      "2500\n",
      "Balance after withdraw is 2000\n",
      "Balance after withdraw is 1500\n",
      "1500\n",
      "\n",
      "Interestrate : 75.0\n",
      "\n"
     ]
    }
   ],
   "source": [
    "#Challenge 5: Handling a Bank Account\n",
    "\n",
    "import sys\n",
    "class Account:\n",
    "    Bank = \"INDIAN BANK\"\n",
    "    def __init__(self,title=None,balance=0):\n",
    "        self.title = title\n",
    "        self.balance = balance\n",
    "        \n",
    "    def deposit(self,deposit):\n",
    "        self.balance = self.balance+deposit\n",
    "        print(\"Balance after deposit is\",self.balance)\n",
    "        return self.balance\n",
    "    \n",
    "    def withdraw(self,withdraw):\n",
    "        if self.balance<withdraw:\n",
    "            print(\"Insuffecient Balance in Account\")\n",
    "            sys.exit()\n",
    "        else:\n",
    "            self.balance = self.balance-withdraw\n",
    "            print(\"Balance after withdraw is\",self.balance)\n",
    "            return self.balance\n",
    "        \n",
    "    def get_balance(self):\n",
    "        return \"\"\n",
    "    \n",
    "class SavingsAccount(Account):\n",
    "    def __init__(self,title=None,balance=0,interestrate=0):\n",
    "        super().__init__(title,balance)\n",
    "        self.interestrate = interestrate\n",
    "    \n",
    "    def interestAmount(self):\n",
    "        self.interestrate = self.interestrate*self.balance/100\n",
    "        print(\"Interestrate :\",self.interestrate)\n",
    "        return \"\"\n",
    "    \n",
    "d1 = SavingsAccount(\"Ashish\",2000,5)\n",
    "print(d1.deposit(500))\n",
    "d1.withdraw(500)\n",
    "print(d1.withdraw(500))\n",
    "print(d1.get_balance())\n",
    "print(d1.interestAmount())\n"
   ]
  },
  {
   "cell_type": "code",
   "execution_count": null,
   "id": "18e400c8",
   "metadata": {},
   "outputs": [],
   "source": []
  }
 ],
 "metadata": {
  "kernelspec": {
   "display_name": "Python 3 (ipykernel)",
   "language": "python",
   "name": "python3"
  },
  "language_info": {
   "codemirror_mode": {
    "name": "ipython",
    "version": 3
   },
   "file_extension": ".py",
   "mimetype": "text/x-python",
   "name": "python",
   "nbconvert_exporter": "python",
   "pygments_lexer": "ipython3",
   "version": "3.10.9"
  }
 },
 "nbformat": 4,
 "nbformat_minor": 5
}
